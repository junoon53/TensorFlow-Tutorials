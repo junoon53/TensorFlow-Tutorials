{
 "cells": [
  {
   "cell_type": "code",
   "execution_count": 1,
   "metadata": {
    "collapsed": true
   },
   "outputs": [],
   "source": [
    "import tensorflow as tf\n",
    "import numpy as np\n",
    "from tensorflow.examples.tutorials.mnist import input_data"
   ]
  },
  {
   "cell_type": "code",
   "execution_count": 7,
   "metadata": {},
   "outputs": [
    {
     "name": "stdout",
     "output_type": "stream",
     "text": [
      "Extracting MNIST_data/train-images-idx3-ubyte.gz\n",
      "Extracting MNIST_data/train-labels-idx1-ubyte.gz\n",
      "Extracting MNIST_data/t10k-images-idx3-ubyte.gz\n",
      "Extracting MNIST_data/t10k-labels-idx1-ubyte.gz\n"
     ]
    }
   ],
   "source": [
    "def init_weights(shape):\n",
    "    return tf.Variable(tf.random_normal(shape, stddev=0.01))\n",
    "\n",
    "def init_biases(shape):\n",
    "    return tf.Variable(tf.zeros(shape))\n",
    "\n",
    "def model(X, w_h, b_h, w_h2, b_h2, w_o, b_o, p_keep_input, p_keep_hidden): # this network is the same as the previous one except with an extra hidden layer + dropout\n",
    "    X = tf.nn.dropout(X, p_keep_input)\n",
    "    h = tf.nn.relu(tf.matmul(X, w_h)) + b_h\n",
    "    \n",
    "    h = tf.nn.dropout(h, p_keep_hidden)\n",
    "    h2 = tf.nn.relu(tf.matmul(h, w_h2)) + b_h2\n",
    "\n",
    "    h2 = tf.nn.dropout(h2, p_keep_hidden)\n",
    "\n",
    "    return tf.matmul(h2, w_o) + b_o\n",
    "\n",
    "mnist = input_data.read_data_sets(\"MNIST_data/\", one_hot=True)\n",
    "trX, trY, teX, teY = mnist.train.images, mnist.train.labels, mnist.test.images, mnist.test.labels"
   ]
  },
  {
   "cell_type": "code",
   "execution_count": 8,
   "metadata": {},
   "outputs": [],
   "source": [
    "X = tf.placeholder(\"float\", [None, 784])\n",
    "Y = tf.placeholder(\"float\", [None, 10])\n",
    "\n",
    "w_h = init_weights([784, 625])\n",
    "b_h = init_biases([625])\n",
    "w_h2 = init_weights([625, 625])\n",
    "b_h2 = init_biases([625])\n",
    "w_o = init_weights([625, 10])\n",
    "b_o = init_biases([10])\n",
    "\n",
    "p_keep_input = tf.placeholder(\"float\")\n",
    "p_keep_hidden = tf.placeholder(\"float\")\n",
    "py_x = model(X, w_h, b_h, w_h2, b_h2, w_o, b_o, p_keep_input, p_keep_hidden)\n",
    "\n",
    "cost = tf.reduce_mean(tf.nn.softmax_cross_entropy_with_logits(logits=py_x, labels=Y))\n",
    "train_op = tf.train.RMSPropOptimizer(0.001, 0.9).minimize(cost)\n",
    "predict_op = tf.argmax(py_x, 1)"
   ]
  },
  {
   "cell_type": "code",
   "execution_count": 9,
   "metadata": {},
   "outputs": [
    {
     "name": "stdout",
     "output_type": "stream",
     "text": [
      "0 0.934\n",
      "1 0.9623\n",
      "2 0.9697\n",
      "3 0.9737\n",
      "4 0.9761\n",
      "5 0.9774\n",
      "6 0.9794\n",
      "7 0.9791\n",
      "8 0.9773\n",
      "9 0.9795\n",
      "10 0.9799\n",
      "11 0.9811\n",
      "12 0.9799\n",
      "13 0.9821\n",
      "14 0.9774\n",
      "15 0.9816\n",
      "16 0.9832\n",
      "17 0.9816\n",
      "18 0.9817\n",
      "19 0.9825\n",
      "20 0.9828\n",
      "21 0.9807\n",
      "22 0.9822\n",
      "23 0.9819\n",
      "24 0.9813\n",
      "25 0.9833\n",
      "26 0.9832\n",
      "27 0.9839\n",
      "28 0.983\n",
      "29 0.9827\n",
      "30 0.984\n",
      "31 0.9841\n",
      "32 0.9823\n",
      "33 0.9826\n",
      "34 0.9843\n",
      "35 0.983\n",
      "36 0.9826\n",
      "37 0.981\n",
      "38 0.9839\n",
      "39 0.9826\n",
      "40 0.9841\n",
      "41 0.9839\n",
      "42 0.9849\n",
      "43 0.9847\n",
      "44 0.984\n",
      "45 0.9849\n",
      "46 0.9832\n",
      "47 0.9841\n",
      "48 0.983\n",
      "49 0.9843\n",
      "50 0.985\n",
      "51 0.9839\n",
      "52 0.9835\n",
      "53 0.984\n",
      "54 0.9843\n",
      "55 0.9845\n",
      "56 0.9852\n",
      "57 0.9843\n",
      "58 0.9845\n",
      "59 0.9843\n",
      "60 0.9848\n",
      "61 0.9835\n",
      "62 0.986\n",
      "63 0.9845\n",
      "64 0.9851\n",
      "65 0.9849\n",
      "66 0.9847\n",
      "67 0.9832\n",
      "68 0.9847\n",
      "69 0.9843\n",
      "70 0.9836\n",
      "71 0.9851\n",
      "72 0.9855\n",
      "73 0.9847\n",
      "74 0.9835\n",
      "75 0.9848\n",
      "76 0.9849\n",
      "77 0.9849\n",
      "78 0.9851\n",
      "79 0.9841\n",
      "80 0.984\n",
      "81 0.9845\n",
      "82 0.9845\n",
      "83 0.985\n",
      "84 0.9851\n",
      "85 0.9864\n",
      "86 0.9845\n",
      "87 0.9859\n",
      "88 0.9848\n",
      "89 0.9863\n",
      "90 0.9847\n",
      "91 0.9847\n",
      "92 0.9854\n",
      "93 0.9855\n",
      "94 0.9846\n",
      "95 0.9852\n",
      "96 0.9844\n",
      "97 0.9848\n",
      "98 0.9843\n",
      "99 0.9842\n"
     ]
    }
   ],
   "source": [
    "# Launch the graph in a session\n",
    "with tf.Session() as sess:\n",
    "    # you need to initialize all variables\n",
    "    tf.global_variables_initializer().run()\n",
    "\n",
    "    for i in range(100):\n",
    "        for start, end in zip(range(0, len(trX), 128), range(128, len(trX)+1, 128)):\n",
    "            sess.run(train_op, feed_dict={X: trX[start:end], Y: trY[start:end],\n",
    "                                          p_keep_input: 0.8, p_keep_hidden: 0.5})\n",
    "        print(i, np.mean(np.argmax(teY, axis=1) ==\n",
    "                         sess.run(predict_op, feed_dict={X: teX, Y: teY,\n",
    "                                                         p_keep_input: 1.0,\n",
    "                                                         p_keep_hidden: 1.0})))"
   ]
  },
  {
   "cell_type": "code",
   "execution_count": null,
   "metadata": {
    "collapsed": true
   },
   "outputs": [],
   "source": []
  }
 ],
 "metadata": {
  "kernelspec": {
   "display_name": "Python 2",
   "language": "python",
   "name": "python2"
  },
  "language_info": {
   "codemirror_mode": {
    "name": "ipython",
    "version": 3
   },
   "file_extension": ".py",
   "mimetype": "text/x-python",
   "name": "python",
   "nbconvert_exporter": "python",
   "pygments_lexer": "ipython3",
   "version": "3.6.1"
  }
 },
 "nbformat": 4,
 "nbformat_minor": 1
}
